{
  "cells": [
    {
      "cell_type": "markdown",
      "metadata": {
        "id": "NyJvM_j31kei"
      },
      "source": [
        "# Imports and Drive Mount\n"
      ]
    },
    {
      "cell_type": "code",
      "source": [
        "!pip install Levenshtein"
      ],
      "metadata": {
        "colab": {
          "base_uri": "https://localhost:8080/"
        },
        "id": "SFPyrICdqUAG",
        "outputId": "0b344ddc-7417-4fc4-cb06-cad718b167f7"
      },
      "execution_count": null,
      "outputs": [
        {
          "output_type": "stream",
          "name": "stdout",
          "text": [
            "Requirement already satisfied: Levenshtein in /usr/local/lib/python3.10/dist-packages (0.25.1)\n",
            "Requirement already satisfied: rapidfuzz<4.0.0,>=3.8.0 in /usr/local/lib/python3.10/dist-packages (from Levenshtein) (3.9.3)\n"
          ]
        }
      ]
    },
    {
      "cell_type": "code",
      "execution_count": null,
      "metadata": {
        "id": "1xaaU_Pe1kBq",
        "colab": {
          "base_uri": "https://localhost:8080/"
        },
        "outputId": "6c7802da-c9b4-4df9-c72d-51e3460a2086"
      },
      "outputs": [
        {
          "output_type": "stream",
          "name": "stdout",
          "text": [
            "TensorFlow Version: 2.15.0\n"
          ]
        }
      ],
      "source": [
        "# Standard library imports\n",
        "import os\n",
        "import csv\n",
        "\n",
        "# Third-party library imports\n",
        "import cv2\n",
        "import numpy as np\n",
        "import pandas as pd\n",
        "import matplotlib.pyplot as plt\n",
        "\n",
        "import Levenshtein\n",
        "\n",
        "# TensorFlow and Keras imports\n",
        "import tensorflow as tf\n",
        "from tensorflow.keras.models import Sequential, Model\n",
        "from tensorflow.keras.layers import (Input, Conv2D, MaxPooling2D, BatchNormalization, Activation, Reshape,\n",
        "                                     Dense, LSTM, Bidirectional, Flatten, Dropout, Lambda)\n",
        "from tensorflow.keras.optimizers import Adam\n",
        "from tensorflow.keras.callbacks import ModelCheckpoint\n",
        "from sklearn.model_selection import train_test_split\n",
        "from tensorflow.keras import backend as K\n",
        "from sklearn.model_selection import train_test_split\n",
        "\n",
        "# Display TensorFlow version\n",
        "print(f'TensorFlow Version: {tf.__version__}')\n"
      ]
    },
    {
      "cell_type": "code",
      "execution_count": null,
      "metadata": {
        "id": "-u8RD7AB1yE4",
        "colab": {
          "base_uri": "https://localhost:8080/"
        },
        "outputId": "a20c523c-0501-4f02-a4c8-50f601156227"
      },
      "outputs": [
        {
          "output_type": "stream",
          "name": "stdout",
          "text": [
            "Google Drive is already mounted.\n"
          ]
        }
      ],
      "source": [
        "# Check if Google Drive is mounted\n",
        "if not os.path.exists('/content/drive'):\n",
        "    from google.colab import drive\n",
        "    drive.mount('/content/drive')\n",
        "else:\n",
        "    print(\"Google Drive is already mounted.\")"
      ]
    },
    {
      "cell_type": "markdown",
      "metadata": {
        "id": "s3MP5XQ915Ks"
      },
      "source": [
        "# Load the Tf Record data\n",
        "\n",
        "*   Images arre grayscale\n",
        "\n"
      ]
    },
    {
      "cell_type": "code",
      "execution_count": null,
      "metadata": {
        "id": "HbAmuyhtAEfA"
      },
      "outputs": [],
      "source": [
        "def parse_tfrecord_fn(example):\n",
        "    feature_description = {\n",
        "        'image': tf.io.FixedLenFeature([], tf.string),\n",
        "        'label': tf.io.VarLenFeature(tf.int64),\n",
        "    }\n",
        "    example = tf.io.parse_single_example(example, feature_description)\n",
        "    image = tf.io.decode_jpeg(example['image'], channels=1)\n",
        "    image = tf.image.convert_image_dtype(image, tf.uint8)  # Convert image to uint8\n",
        "    label = tf.sparse.to_dense(example['label'])\n",
        "    return image, label\n",
        "\n",
        "\n",
        "# Function to load TFRecord dataset\n",
        "def load_tfrecord_dataset(file_path):\n",
        "    dataset = tf.data.TFRecordDataset(file_path)\n",
        "    dataset = dataset.map(parse_tfrecord_fn)\n",
        "    return dataset\n",
        "\n",
        "\n",
        "# Function to load the maximum sequence length\n",
        "def load_max_sequence_length(file_path):\n",
        "    with open(file_path, \"r\") as f:\n",
        "        line = f.readline().strip()\n",
        "        max_sequence_length = int(line.split(\": \")[1])\n",
        "    return max_sequence_length\n",
        "\n",
        "\n",
        "def display_image(image, label):\n",
        "    image_np = (tf.squeeze(image) * 255).numpy().astype(np.uint8)  # Convert image back to uint8\n",
        "    label_np = label.numpy()\n",
        "\n",
        "    print(f\"Label: {label_np}\")\n",
        "\n",
        "    plt.imshow(image_np, cmap='gray')\n",
        "    plt.axis('off')\n",
        "    plt.show()\n",
        "\n",
        "\n",
        "# Define paths\n",
        "tfrecord_file = '/content/drive/MyDrive/CLE/PdfOcr Training/Datasets/tf_Records/dataset_30k.tfrecord'\n",
        "max_label_length_file = '/content/drive/MyDrive/CLE/PdfOcr Training/Datasets/tf_Records/max_label_length.txt'\n"
      ]
    },
    {
      "cell_type": "code",
      "execution_count": null,
      "metadata": {
        "id": "MXZFEYokEecG"
      },
      "outputs": [],
      "source": [
        "# Load TFRecord dataset\n",
        "dataset = load_tfrecord_dataset(tfrecord_file)"
      ]
    },
    {
      "cell_type": "code",
      "execution_count": null,
      "metadata": {
        "colab": {
          "base_uri": "https://localhost:8080/"
        },
        "id": "1wtGEQDwEg-o",
        "outputId": "c0594c21-33e5-4088-e94d-ddec17148439"
      },
      "outputs": [
        {
          "output_type": "stream",
          "name": "stdout",
          "text": [
            "Max Sequence Length: 112\n"
          ]
        }
      ],
      "source": [
        "# Load maximum sequence length\n",
        "max_str_len = load_max_sequence_length(max_label_length_file)\n",
        "print(f\"Max Sequence Length: {max_str_len}\")"
      ]
    },
    {
      "cell_type": "code",
      "execution_count": null,
      "metadata": {
        "colab": {
          "base_uri": "https://localhost:8080/",
          "height": 397
        },
        "id": "lmsKWKcBMS3E",
        "outputId": "5eebeb1c-4eee-4983-baad-10c3311b0980"
      },
      "outputs": [
        {
          "output_type": "stream",
          "name": "stdout",
          "text": [
            "Type Label : <class 'tensorflow.python.framework.ops.EagerTensor'>\n",
            "Label: [ 40  72   8  96  28  96   7  18  71   1  15  40  49  14 119  16   3  15\n",
            "   4  49  14   7  45  16  23  93  14   2 999 999 999 999 999 999 999 999\n",
            " 999 999 999 999 999 999 999 999 999 999 999 999 999 999 999 999 999 999\n",
            " 999 999 999 999 999 999 999 999 999 999 999 999 999 999 999 999 999 999\n",
            " 999 999 999 999 999 999 999 999 999 999 999 999 999 999 999 999 999 999\n",
            " 999 999 999 999 999 999 999 999 999 999 999 999 999 999 999 999 999 999\n",
            " 999 999 999 999]\n"
          ]
        },
        {
          "output_type": "display_data",
          "data": {
            "text/plain": [
              "<Figure size 640x480 with 1 Axes>"
            ],
            "image/png": "[encoded data removed]"
          },
          "metadata": {}
        },
        {
          "output_type": "stream",
          "name": "stdout",
          "text": [
            "Type Label : <class 'tensorflow.python.framework.ops.EagerTensor'>\n",
            "Label: [ 26   5  82   0  33  55  34  14  15  78  81   8   5   7   1  10   1  12\n",
            "  31  19   7   8   9   7   0   8   9  33  55  34  14  15  78  26 131  14\n",
            "  52  21  27  28  18   1  64  27  36  51  14   2  12   3  58  31  14  10\n",
            "  85   3  46  64   1 120  14  33   1 999 999 999 999 999 999 999 999 999\n",
            " 999 999 999 999 999 999 999 999 999 999 999 999 999 999 999 999 999 999\n",
            " 999 999 999 999 999 999 999 999 999 999 999 999 999 999 999 999 999 999\n",
            " 999 999 999 999]\n"
          ]
        },
        {
          "output_type": "display_data",
          "data": {
            "text/plain": [
              "<Figure size 640x480 with 1 Axes>"
            ],
            "image/png": "[encoded data removed]"
          },
          "metadata": {}
        }
      ],
      "source": [
        "for image, label in dataset.take(2):\n",
        "    print(f\"Type Label : {type(label)}\")\n",
        "    display_image(image, label)"
      ]
    },
    {
      "cell_type": "code",
      "execution_count": null,
      "metadata": {
        "id": "Kc2saKX8FI4X"
      },
      "outputs": [],
      "source": [
        "# Create the labels and images np arrays for training.\n",
        "images = []\n",
        "labels = []\n",
        "\n",
        "for image, label in dataset:\n",
        "  labels.append(np.array(label))\n",
        "  images.append(np.array(image))"
      ]
    },
    {
      "cell_type": "code",
      "execution_count": null,
      "metadata": {
        "colab": {
          "base_uri": "https://localhost:8080/"
        },
        "id": "B3AFkek-FV8N",
        "outputId": "9e11a003-db30-4fd9-b6c1-a8ef8483726b"
      },
      "outputs": [
        {
          "output_type": "execute_result",
          "data": {
            "text/plain": [
              "(30778, 30778, list, list)"
            ]
          },
          "metadata": {},
          "execution_count": 10
        }
      ],
      "source": [
        "len(images), len(labels), type(images), type(labels)"
      ]
    },
    {
      "cell_type": "code",
      "execution_count": null,
      "metadata": {
        "id": "hyprids9Ft0a"
      },
      "outputs": [],
      "source": [
        "# images = np.array(images) #/255.0 # Normalize the Images\n",
        "# labels = np.array(labels)"
      ]
    },
    {
      "cell_type": "code",
      "execution_count": null,
      "metadata": {
        "id": "FmxCpR3gFybP"
      },
      "outputs": [],
      "source": [
        "# len(images), len(labels), type(images), type(labels)"
      ]
    },
    {
      "cell_type": "markdown",
      "metadata": {
        "id": "NwYGJ9lJGGF7"
      },
      "source": [
        "\n",
        "# Train Test Split\n",
        "\n",
        "*  Total Number of Samples in the dataset are 30778\n",
        "\n",
        "\n"
      ]
    },
    {
      "cell_type": "code",
      "execution_count": null,
      "metadata": {
        "id": "ILzpH6HIFZZc"
      },
      "outputs": [],
      "source": [
        "X_train, X_test, y_train, y_test = train_test_split(images, labels, test_size = 0.10)"
      ]
    },
    {
      "cell_type": "code",
      "execution_count": null,
      "metadata": {
        "colab": {
          "base_uri": "https://localhost:8080/"
        },
        "id": "hbR-wRjIEJ-q",
        "outputId": "bc570009-6b4e-4f57-94b4-8b3ed4f2b040"
      },
      "outputs": [
        {
          "output_type": "execute_result",
          "data": {
            "text/plain": [
              "200"
            ]
          },
          "metadata": {},
          "execution_count": 14
        }
      ],
      "source": [
        "lt_pth = \"/content/drive/MyDrive/CLE/PdfOcr Training/Datasets/Main_Dataset_30k/labels/lt_char.csv\"\n",
        "\n",
        "df = pd.read_csv(lt_pth)\n",
        "num_classes = df.shape[0] + 1\n",
        "num_classes"
      ]
    },
    {
      "cell_type": "markdown",
      "source": [
        "## Important Variable Processing\n",
        "\n",
        "* **train_y** contains the true labels converted to numbers and padded with -1. The length of each label is equal to max_str_len.\n",
        "* **train_label_len** contains the length of each true label (without padding)\n",
        "* **train_input_len** contains the length of each predicted label. The length of all the predicted labels is constant i.e number of timestamps - 2.\n",
        "* **train_output** is a dummy output for ctc loss."
      ],
      "metadata": {
        "id": "H3lZhUs9ikI_"
      }
    },
    {
      "cell_type": "code",
      "source": [
        "train_size = len(X_train)\n",
        "valid_size= len(X_test)\n",
        "\n",
        "# Total Number of Train and Validation Instances.\n",
        "train_size, valid_size"
      ],
      "metadata": {
        "colab": {
          "base_uri": "https://localhost:8080/"
        },
        "id": "7pGHcMMYc11W",
        "outputId": "87fa376d-1fa5-4f4a-981b-95ae117592e0"
      },
      "execution_count": null,
      "outputs": [
        {
          "output_type": "execute_result",
          "data": {
            "text/plain": [
              "(27700, 3078)"
            ]
          },
          "metadata": {},
          "execution_count": 15
        }
      ]
    },
    {
      "cell_type": "code",
      "source": [
        "from google.colab import output\n",
        "output.enable_custom_widget_manager()"
      ],
      "metadata": {
        "id": "K66-r0YaiIJl"
      },
      "execution_count": null,
      "outputs": []
    },
    {
      "cell_type": "code",
      "source": [
        "train_y = y_train\n",
        "valid_y = y_test"
      ],
      "metadata": {
        "id": "d0ZSFr7kg_53"
      },
      "execution_count": null,
      "outputs": []
    },
    {
      "cell_type": "code",
      "source": [
        "def remove_999_from_lists(data):\n",
        "    return [[label for label in sublist if label != 999] for sublist in data]\n",
        "\n",
        "# Example large lists\n",
        "# Assuming y_train and y_test are very large lists of lists\n",
        "\n",
        "# Process y_train in chunks\n",
        "chunk_size = 1000  # Adjust chunk size based on your data size and available memory\n",
        "filtered_train_chunks = [remove_999_from_lists(y_train[i:i + chunk_size]) for i in range(0, len(y_train), chunk_size)]\n",
        "train_label_without_padding = [item for chunk in filtered_train_chunks for item in chunk]\n",
        "\n",
        "# Process y_test in chunks\n",
        "filtered_test_chunks = [remove_999_from_lists(y_test[i:i + chunk_size]) for i in range(0, len(y_test), chunk_size)]\n",
        "valid_label_without_padding = [item for chunk in filtered_test_chunks for item in chunk]\n",
        "\n",
        "train_label_len = [len(label) for label in train_label_without_padding]\n",
        "valid_label_len = [len(label) for label in valid_label_without_padding]\n",
        "\n",
        "train_label_len = np.array(train_label_len)\n",
        "valid_label_len = np.array(valid_label_len)"
      ],
      "metadata": {
        "id": "oPm5wdOzh8Dl"
      },
      "execution_count": null,
      "outputs": []
    },
    {
      "cell_type": "code",
      "source": [
        "train_label_len[:10], valid_label_len[:10]"
      ],
      "metadata": {
        "colab": {
          "base_uri": "https://localhost:8080/"
        },
        "id": "D4hB-713ibr_",
        "outputId": "6df83d46-d41f-4977-9a22-6dda4494b02c"
      },
      "execution_count": null,
      "outputs": [
        {
          "output_type": "execute_result",
          "data": {
            "text/plain": [
              "(array([62, 67, 59, 63, 62, 63, 33, 56, 62, 67]),\n",
              " array([62,  3, 65, 59, 70, 65, 60, 48, 73, 62]))"
            ]
          },
          "metadata": {},
          "execution_count": 19
        }
      ]
    },
    {
      "cell_type": "code",
      "source": [
        "num_of_timestamps = 128\n",
        "\n",
        "train_input_len = np.ones([train_size, 1]) * (num_of_timestamps-2)\n",
        "valid_input_len = np.ones([valid_size, 1]) * (num_of_timestamps-2)"
      ],
      "metadata": {
        "id": "YN7I21vxi1mf"
      },
      "execution_count": null,
      "outputs": []
    },
    {
      "cell_type": "code",
      "source": [
        "train_output = np.zeros([train_size])\n",
        "valid_output = np.zeros([valid_size])"
      ],
      "metadata": {
        "id": "Bpu4sxMNjm1H"
      },
      "execution_count": null,
      "outputs": []
    },
    {
      "cell_type": "code",
      "source": [
        "train_x = np.array(X_train)\n",
        "valid_x = np.array(X_test)\n",
        "\n",
        "train_y = np.array(y_train)\n",
        "valid_y = np.array(y_test)"
      ],
      "metadata": {
        "id": "xFXZVevPknCn"
      },
      "execution_count": null,
      "outputs": []
    },
    {
      "cell_type": "markdown",
      "metadata": {
        "id": "cWrLrFX_Esl9"
      },
      "source": [
        "# Build the Model"
      ]
    },
    {
      "cell_type": "code",
      "execution_count": null,
      "metadata": {
        "id": "aqZIC-J8EuPk"
      },
      "outputs": [],
      "source": [
        "input_shape = (64, 1000, 1)\n",
        "\n",
        "# Enable eager execution\n",
        "tf.config.run_functions_eagerly(True)\n",
        "\n",
        "# Input layer\n",
        "input_data = Input(shape=input_shape)\n",
        "\n",
        "# CNN Layers\n",
        "x = Conv2D(filters=32, kernel_size=(5, 5), strides=(1, 1), padding='SAME', activation='relu')(input_data)\n",
        "x = MaxPooling2D(pool_size=(2, 2), strides=(2, 2), padding='SAME')(x)\n",
        "\n",
        "x = Conv2D(filters=64, kernel_size=(5, 5), strides=(1, 2), padding='SAME', activation='relu')(x)\n",
        "x = MaxPooling2D(pool_size=(1, 2), strides=(1, 2), padding='SAME')(x)\n",
        "\n",
        "x = Conv2D(filters=128, kernel_size=(5, 5), strides=(1, 2), padding='SAME', activation='relu')(x)\n",
        "x = MaxPooling2D(pool_size=(1, 2), strides=(1, 2), padding='SAME')(x)\n",
        "\n",
        "x = Conv2D(filters=128, kernel_size=(5, 5), strides=(1, 2), padding='SAME', activation='relu')(x)\n",
        "x = MaxPooling2D(pool_size=(1, 2), strides=(1, 2), padding='SAME')(x)\n",
        "\n",
        "x = Conv2D(filters=256, kernel_size=(3, 3), strides=(1, 2), padding='SAME', activation='relu')(x)\n",
        "x = MaxPooling2D(pool_size=(1, 2), strides=(1, 2), padding='SAME')(x)\n",
        "\n",
        "x = Conv2D(filters=256, kernel_size=(3, 3), strides=(1, 2), padding='SAME', activation='relu')(x)\n",
        "x = MaxPooling2D(pool_size=(1, 2), strides=(1, 2), padding='SAME')(x)\n",
        "\n",
        "x = Conv2D(filters=512, kernel_size=(3, 3), strides=(1, 1), padding='SAME', activation='relu')(x)\n",
        "x = MaxPooling2D(pool_size=(1, 1), strides=(1, 1), padding='SAME')(x)\n",
        "\n",
        "# Flatten Layer\n",
        "x = Flatten()(x)\n",
        "\n",
        "# Reshape Layer\n",
        "x = Reshape((128, 128))(x)  # Adjust the reshape dimensions based on the Flatten output\n",
        "x = Dense(num_of_timestamps, activation='relu', kernel_initializer='he_normal', name='dense1')(x)\n",
        "\n",
        "# Bidirectional LSTM Layers\n",
        "x = Bidirectional(LSTM(units=512, return_sequences=True))(x)\n",
        "x = Bidirectional(LSTM(units=512, return_sequences=True))(x)\n",
        "\n",
        "# Dropout Layer\n",
        "x = Dropout(0.2)(x)\n",
        "\n",
        "# Output Layer\n",
        "y_pred = Dense(units=num_classes, activation='softmax')(x)\n",
        "\n",
        "# Define the model\n",
        "model = Model(inputs=input_data, outputs=y_pred)\n"
      ]
    },
    {
      "cell_type": "code",
      "source": [
        "# the ctc loss function\n",
        "def ctc_lambda_func(args):\n",
        "    y_pred, labels, input_length, label_length = args\n",
        "    # the 2 is critical here since the first couple outputs of the RNN\n",
        "    # tend to be garbage\n",
        "    y_pred = y_pred[:, 2:, :]\n",
        "    return K.ctc_batch_cost(labels, y_pred, input_length, label_length)\n",
        "\n",
        "\n",
        "def levenshtein_distance(y_true, y_pred):\n",
        "    batch_size = K.shape(y_true)[0]\n",
        "    total_distance = 0.0\n",
        "\n",
        "    for i in range(batch_size):\n",
        "        true_seq = ''.join([chr(int(c)) for c in y_true[i] if c > 0])\n",
        "        pred_seq = ''.join([chr(int(c)) for c in y_pred[i] if c > 0])\n",
        "\n",
        "        total_distance += Levenshtein.distance(true_seq, pred_seq)\n",
        "\n",
        "    return total_distance / K.cast(batch_size, K.floatx())\n",
        "\n"
      ],
      "metadata": {
        "id": "yX2SGrVSEPRG"
      },
      "execution_count": null,
      "outputs": []
    },
    {
      "cell_type": "code",
      "source": [
        "labels = Input(name='gtruth_labels', shape=[max_str_len], dtype='float32')\n",
        "input_length = Input(name='input_length', shape=[1], dtype='int64')\n",
        "label_length = Input(name='label_length', shape=[1], dtype='int64')\n",
        "\n",
        "ctc_loss = Lambda(ctc_lambda_func, output_shape=(1,), name='ctc')([y_pred, labels, input_length, label_length])\n",
        "model_final = Model(inputs=[input_data, labels, input_length, label_length], outputs=ctc_loss)"
      ],
      "metadata": {
        "id": "Ym_qzL1LgJeP"
      },
      "execution_count": null,
      "outputs": []
    },
    {
      "cell_type": "code",
      "source": [
        "# the loss calculation occurs elsewhere, so we use a dummy lambda function for the loss\n",
        "file_path_best = \"C_LSTM_best.hdf5\"\n",
        "\n",
        "model_final.compile(loss={'ctc': lambda y_true, y_pred: y_pred}, optimizer=Adam(lr = 0.0001), metrics=['accuracy', levenshtein_distance])\n",
        "\n",
        "checkpoint = ModelCheckpoint(filepath=file_path_best,\n",
        "                             monitor='val_loss',\n",
        "                             verbose=1,\n",
        "                             save_best_only=True,\n",
        "                             mode='min')\n",
        "\n",
        "callbacks_list = [checkpoint]"
      ],
      "metadata": {
        "id": "-ITkOuTPOxQ-",
        "colab": {
          "base_uri": "https://localhost:8080/"
        },
        "outputId": "9ce50034-c0e4-438e-9e15-f0fcb2098fec"
      },
      "execution_count": null,
      "outputs": [
        {
          "output_type": "stream",
          "name": "stderr",
          "text": [
            "WARNING:absl:`lr` is deprecated in Keras optimizer, please use `learning_rate` or use the legacy optimizer, e.g.,tf.keras.optimizers.legacy.Adam.\n"
          ]
        }
      ]
    },
    {
      "cell_type": "code",
      "execution_count": null,
      "metadata": {
        "id": "dBw9jDIdKqgx"
      },
      "outputs": [],
      "source": [
        "history = model_final.fit(\n",
        "    x=[train_x, train_y, train_input_len, train_label_len],\n",
        "    y=train_output,validation_data=([valid_x, valid_y, valid_input_len, valid_label_len], valid_output),\n",
        "    callbacks=callbacks_list,\n",
        "    verbose=1,\n",
        "    epochs=60,\n",
        "    batch_size=4,\n",
        "    shuffle=True,\n",
        "    )"
      ]
    },
    {
      "cell_type": "code",
      "execution_count": null,
      "metadata": {
        "id": "qMlGfhLkE6Ag"
      },
      "outputs": [],
      "source": [
        "model.save('/content/drive/MyDrive/ocr/first_model.h5')"
      ]
    }
  ],
  "metadata": {
    "colab": {
      "provenance": []
    },
    "kernelspec": {
      "display_name": "Python 3",
      "name": "python3"
    },
    "language_info": {
      "name": "python"
    }
  },
  "nbformat": 4,
  "nbformat_minor": 0
}